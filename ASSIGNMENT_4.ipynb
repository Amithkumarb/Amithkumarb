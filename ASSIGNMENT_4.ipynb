{
  "nbformat": 4,
  "nbformat_minor": 0,
  "metadata": {
    "colab": {
      "name": "ASSIGNMENT 4",
      "provenance": [],
      "collapsed_sections": [],
      "authorship_tag": "ABX9TyP/MS2Sj3t1SAkMyqYAsQVx",
      "include_colab_link": true
    },
    "kernelspec": {
      "name": "python3",
      "display_name": "Python 3"
    }
  },
  "cells": [
    {
      "cell_type": "markdown",
      "metadata": {
        "id": "view-in-github",
        "colab_type": "text"
      },
      "source": [
        "<a href=\"https://colab.research.google.com/github/Amithkumarb/Amithkumarb/blob/master/ASSIGNMENT_4.ipynb\" target=\"_parent\"><img src=\"https://colab.research.google.com/assets/colab-badge.svg\" alt=\"Open In Colab\"/></a>"
      ]
    },
    {
      "cell_type": "code",
      "metadata": {
        "id": "3G4Qx-8wqzUf",
        "colab_type": "code",
        "colab": {
          "base_uri": "https://localhost:8080/",
          "height": 34
        },
        "outputId": "bd5b946f-f537-4404-c949-ee6e73ad8614"
      },
      "source": [
        "def maximum (a, b, c):\n",
        " \n",
        "  if(a>=b) and (a>=c):\n",
        "    largest=a\n",
        " \n",
        "  elif(b>=a) and (b>=c):\n",
        "    largest=b\n",
        "  else:\n",
        "    largest=c\n",
        " \n",
        "  return largest\n",
        "a=10\n",
        "b=14\n",
        "c=12\n",
        "print(maximum (a, b, c))"
      ],
      "execution_count": 1,
      "outputs": [
        {
          "output_type": "stream",
          "text": [
            "14\n"
          ],
          "name": "stdout"
        }
      ]
    },
    {
      "cell_type": "code",
      "metadata": {
        "id": "r-FyqyeusT3X",
        "colab_type": "code",
        "colab": {
          "base_uri": "https://localhost:8080/",
          "height": 51
        },
        "outputId": "a7df683f-e998-4f7b-8f47-1e33cc62d630"
      },
      "source": [
        "a=int(input()) \n",
        "for i in range(10) :\n",
        "  if(a<=10):\n",
        "    print(a,\"is in the given range\")\n",
        "    break\n",
        "  else:\n",
        "    print(a,\"is not in the given range\") \n",
        "    break"
      ],
      "execution_count": 6,
      "outputs": [
        {
          "output_type": "stream",
          "text": [
            "15\n",
            "15 is not in the given range\n"
          ],
          "name": "stdout"
        }
      ]
    },
    {
      "cell_type": "code",
      "metadata": {
        "id": "F0yjt-udtpk2",
        "colab_type": "code",
        "colab": {
          "base_uri": "https://localhost:8080/",
          "height": 34
        },
        "outputId": "3c8f099c-960a-4300-9311-ab6d15e1403c"
      },
      "source": [
        "def fact(num):\n",
        " if(num==1):\n",
        "  return 1\n",
        " else:\n",
        "  return num*fact(num-1) \n",
        "num=4\n",
        "print(\"factorial of\",num,\"is\",fact(num))"
      ],
      "execution_count": 8,
      "outputs": [
        {
          "output_type": "stream",
          "text": [
            "factorial of 4 is 24\n"
          ],
          "name": "stdout"
        }
      ]
    }
  ]
}