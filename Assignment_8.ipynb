{
  "nbformat": 4,
  "nbformat_minor": 0,
  "metadata": {
    "colab": {
      "name": "Assignment 8",
      "provenance": [],
      "collapsed_sections": [],
      "authorship_tag": "ABX9TyOnWmVGpmthAMlQfcUpR/Qw",
      "include_colab_link": true
    },
    "kernelspec": {
      "name": "python3",
      "display_name": "Python 3"
    }
  },
  "cells": [
    {
      "cell_type": "markdown",
      "metadata": {
        "id": "view-in-github",
        "colab_type": "text"
      },
      "source": [
        "<a href=\"https://colab.research.google.com/github/Amithkumarb/Amithkumarb/blob/master/Assignment_8.ipynb\" target=\"_parent\"><img src=\"https://colab.research.google.com/assets/colab-badge.svg\" alt=\"Open In Colab\"/></a>"
      ]
    },
    {
      "cell_type": "code",
      "metadata": {
        "id": "pFJ8c6Fv_ubM",
        "colab_type": "code",
        "colab": {
          "base_uri": "https://localhost:8080/",
          "height": 34
        },
        "outputId": "a4ad348b-e9a8-4916-96be-c2c3aefbbc02"
      },
      "source": [
        "name='Amith'\n",
        "print(len(name))"
      ],
      "execution_count": null,
      "outputs": [
        {
          "output_type": "stream",
          "text": [
            "5\n"
          ],
          "name": "stdout"
        }
      ]
    },
    {
      "cell_type": "code",
      "metadata": {
        "id": "r5GubGJN_4pX",
        "colab_type": "code",
        "colab": {
          "base_uri": "https://localhost:8080/",
          "height": 34
        },
        "outputId": "9c71387a-9b1a-44b5-adec-c60f87e93011"
      },
      "source": [
        " def remove(string, i): \n",
        "  a = string[ : i]  \n",
        "  b = string[i + 1: ] \n",
        "  return a + b \n",
        "if __name__ == '__main__':  \n",
        "  string = \"Amith\"   \n",
        "  i = 5   \n",
        "  print(remove(string, i))"
      ],
      "execution_count": 9,
      "outputs": [
        {
          "output_type": "stream",
          "text": [
            "Amith\n"
          ],
          "name": "stdout"
        }
      ]
    },
    {
      "cell_type": "code",
      "metadata": {
        "id": "L1K7oqihgEFF",
        "colab_type": "code",
        "colab": {
          "base_uri": "https://localhost:8080/",
          "height": 68
        },
        "outputId": "21155e92-fa7d-4b10-fb2d-865c4536dff2"
      },
      "source": [
        " string=input(\"Enter string:\")\n",
        "sub_str=input(\"Enter word:\")\n",
        "if(string.find(sub_str)==1):\n",
        "      print(\"Substring not found in string\")\n",
        "else:      \n",
        "      print(\"Substring found in string\")"
      ],
      "execution_count": 12,
      "outputs": [
        {
          "output_type": "stream",
          "text": [
            "Enter string:AMITH\n",
            "Enter word:KUMAR\n",
            "Substring found in string\n"
          ],
          "name": "stdout"
        }
      ]
    },
    {
      "cell_type": "code",
      "metadata": {
        "id": "JVbJ7E5Dgfob",
        "colab_type": "code",
        "colab": {
          "base_uri": "https://localhost:8080/",
          "height": 51
        },
        "outputId": "4e54a42f-1d7e-4e44-8058-bea5da3c9250"
      },
      "source": [
        "name=\"Amith\"\n",
        "print(name== \"Amith\")\n",
        "print(name==\"kumar\")"
      ],
      "execution_count": 15,
      "outputs": [
        {
          "output_type": "stream",
          "text": [
            "True\n",
            "False\n"
          ],
          "name": "stdout"
        }
      ]
    },
    {
      "cell_type": "code",
      "metadata": {
        "id": "G6zfSDxBgu17",
        "colab_type": "code",
        "colab": {
          "base_uri": "https://localhost:8080/",
          "height": 71
        },
        "outputId": "3d4c6395-0ddc-4cb7-e4b6-7bea8d953274"
      },
      "source": [
        "str = input(\"Enter  String : \")\n",
        "total = 0\n",
        "for i in str:\n",
        "    total = total + 1 \n",
        "print(\"Number of Characters in the String is\",total)"
      ],
      "execution_count": 16,
      "outputs": [
        {
          "output_type": "stream",
          "text": [
            "Enter  String : Amith\n",
            "Number of Characters in the String is 5\n"
          ],
          "name": "stdout"
        }
      ]
    },
    {
      "cell_type": "code",
      "metadata": {
        "id": "HWuqoRl4m9Xz",
        "colab_type": "code",
        "colab": {
          "base_uri": "https://localhost:8080/",
          "height": 34
        },
        "outputId": "85016314-8da9-4d51-df58-aea9f30f8af0"
      },
      "source": [
        "a = \"refrigerator\"\n",
        "count = 0\n",
        "for i in a:\n",
        "  count = count+1\n",
        "print(count)"
      ],
      "execution_count": 18,
      "outputs": [
        {
          "output_type": "stream",
          "text": [
            "12\n"
          ],
          "name": "stdout"
        }
      ]
    },
    {
      "cell_type": "code",
      "metadata": {
        "id": "zw3d2UipnM_L",
        "colab_type": "code",
        "colab": {
          "base_uri": "https://localhost:8080/",
          "height": 34
        },
        "outputId": "2a7d63ea-4d67-4552-a7a1-2c2b63420ba8"
      },
      "source": [
        "str=\"hello world\"\n",
        "print(str.count('o'))"
      ],
      "execution_count": 20,
      "outputs": [
        {
          "output_type": "stream",
          "text": [
            "2\n"
          ],
          "name": "stdout"
        }
      ]
    },
    {
      "cell_type": "code",
      "metadata": {
        "id": "l2nULkG9nTHF",
        "colab_type": "code",
        "colab": {
          "base_uri": "https://localhost:8080/",
          "height": 34
        },
        "outputId": "653808cb-ab6a-4f99-f167-262d5e9df2bc"
      },
      "source": [
        "string = \" is amith is good boy ?\"\n",
        "substring = \"no\"\n",
        "count = string.count(substring)\n",
        "print(\"count is:\", count)"
      ],
      "execution_count": 23,
      "outputs": [
        {
          "output_type": "stream",
          "text": [
            "count is: 0\n"
          ],
          "name": "stdout"
        }
      ]
    },
    {
      "cell_type": "code",
      "metadata": {
        "id": "Ai5nJXOknG6g",
        "colab_type": "code",
        "colab": {
          "base_uri": "https://localhost:8080/",
          "height": 68
        },
        "outputId": "9b0c7ab4-c57c-4d32-9dcf-528c8e22e14c"
      },
      "source": [
        "str_input = input(\"Enter your name:  \")\n",
        "print (\"name with lower() = \", str_input.lower())\n",
        "print (\"name with upper() = \", str_input.upper())"
      ],
      "execution_count": 25,
      "outputs": [
        {
          "output_type": "stream",
          "text": [
            "Enter your name:  Amith\n",
            "name with lower() =  amith\n",
            "name with upper() =  AMITH\n"
          ],
          "name": "stdout"
        }
      ]
    },
    {
      "cell_type": "code",
      "metadata": {
        "id": "lJ3mFnganrdT",
        "colab_type": "code",
        "colab": {
          "base_uri": "https://localhost:8080/",
          "height": 102
        },
        "outputId": "ad94a4c6-c917-45f1-a6de-ed0cc6569ab5"
      },
      "source": [
        "i=0\n",
        "a='Amith'\n",
        "for i in a:\n",
        "    print(i)"
      ],
      "execution_count": 27,
      "outputs": [
        {
          "output_type": "stream",
          "text": [
            "A\n",
            "m\n",
            "i\n",
            "t\n",
            "h\n"
          ],
          "name": "stdout"
        }
      ]
    }
  ]
}