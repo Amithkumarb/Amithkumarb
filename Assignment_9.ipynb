{
  "nbformat": 4,
  "nbformat_minor": 0,
  "metadata": {
    "colab": {
      "name": "Assignment 9",
      "provenance": [],
      "authorship_tag": "ABX9TyPwVePtVut2VjAQ/fxKlubE",
      "include_colab_link": true
    },
    "kernelspec": {
      "name": "python3",
      "display_name": "Python 3"
    }
  },
  "cells": [
    {
      "cell_type": "markdown",
      "metadata": {
        "id": "view-in-github",
        "colab_type": "text"
      },
      "source": [
        "<a href=\"https://colab.research.google.com/github/Amithkumarb/Amithkumarb/blob/master/Assignment_9.ipynb\" target=\"_parent\"><img src=\"https://colab.research.google.com/assets/colab-badge.svg\" alt=\"Open In Colab\"/></a>"
      ]
    },
    {
      "cell_type": "code",
      "metadata": {
        "id": "lbQBSrW35rp8",
        "colab_type": "code",
        "colab": {}
      },
      "source": [
        "f=open(\"ap.txt\")\n",
        "f.read()"
      ],
      "execution_count": null,
      "outputs": []
    },
    {
      "cell_type": "code",
      "metadata": {
        "id": "BOloC7bW5tAW",
        "colab_type": "code",
        "colab": {}
      },
      "source": [
        " \n",
        "f=open(\"ak.txt\",\"a\")\n",
        "#x=f.read()\n",
        "#print(x)\n",
        "f.write(\"Amith\")"
      ],
      "execution_count": null,
      "outputs": []
    },
    {
      "cell_type": "code",
      "metadata": {
        "id": "-R7v5cwO5_d5",
        "colab_type": "code",
        "colab": {}
      },
      "source": [
        " \n",
        "f=open(\"an.txt\")\n",
        "x=f.read()\n",
        "print(x)"
      ],
      "execution_count": null,
      "outputs": []
    },
    {
      "cell_type": "code",
      "metadata": {
        "id": "grX8ks7W6Ab3",
        "colab_type": "code",
        "colab": {}
      },
      "source": [
        " \n",
        "f=open(\"as.txt\")\n",
        "for each in f:\n",
        "    print(each)"
      ],
      "execution_count": null,
      "outputs": []
    },
    {
      "cell_type": "code",
      "metadata": {
        "id": "MZgZc8oc6EhX",
        "colab_type": "code",
        "colab": {}
      },
      "source": [
        " \n",
        "#f=open(\"aq.txt\")\n",
        "#f.read()\n",
        "str=\"goodmorning\"\n",
        "str1=str.rstrip('g')\n",
        "str2=str.lstrip('g')\n",
        "print(str1)\n",
        "print(str2)"
      ],
      "execution_count": null,
      "outputs": []
    },
    {
      "cell_type": "code",
      "metadata": {
        "id": "Vgk4Bxld6MRf",
        "colab_type": "code",
        "colab": {}
      },
      "source": [
        ""
      ],
      "execution_count": null,
      "outputs": []
    }
  ]
}