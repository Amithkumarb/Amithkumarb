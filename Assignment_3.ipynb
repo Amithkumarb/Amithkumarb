{
  "nbformat": 4,
  "nbformat_minor": 0,
  "metadata": {
    "colab": {
      "name": "Assignment 3",
      "provenance": [],
      "collapsed_sections": [],
      "authorship_tag": "ABX9TyMUcSHL7N61b2WXI+nQ+s2B",
      "include_colab_link": true
    },
    "kernelspec": {
      "name": "python3",
      "display_name": "Python 3"
    }
  },
  "cells": [
    {
      "cell_type": "markdown",
      "metadata": {
        "id": "view-in-github",
        "colab_type": "text"
      },
      "source": [
        "<a href=\"https://colab.research.google.com/github/Amithkumarb/Amithkumarb/blob/master/Assignment_3.ipynb\" target=\"_parent\"><img src=\"https://colab.research.google.com/assets/colab-badge.svg\" alt=\"Open In Colab\"/></a>"
      ]
    },
    {
      "cell_type": "code",
      "metadata": {
        "id": "YvfRsTY3GNta",
        "colab_type": "code",
        "colab": {
          "base_uri": "https://localhost:8080/",
          "height": 51
        },
        "outputId": "c12a2c93-f740-4bbf-e72d-b7cbd1b96968"
      },
      "source": [
        "Age=int(input(\"Enter the age\")) \n",
        "if(Age>18):\n",
        " print(\"Eligible for voting\") \n",
        "else:\n",
        " print(\"Not eligible for voting\")"
      ],
      "execution_count": null,
      "outputs": [
        {
          "output_type": "stream",
          "text": [
            "Enter the age19\n",
            "Eligible for voting\n"
          ],
          "name": "stdout"
        }
      ]
    },
    {
      "cell_type": "code",
      "metadata": {
        "id": "qzawD0saHaWJ",
        "colab_type": "code",
        "colab": {
          "base_uri": "https://localhost:8080/",
          "height": 51
        },
        "outputId": "156597ab-de4b-49dd-fc2c-47bb63a9ed7d"
      },
      "source": [
        "num=int(input(\"Enter a number:\")) \n",
        "if(num%2==0):\n",
        " print(\"Even number\") \n",
        "else:\n",
        " print(\"odd number\")"
      ],
      "execution_count": null,
      "outputs": [
        {
          "output_type": "stream",
          "text": [
            "Enter a number:3\n",
            "odd number\n"
          ],
          "name": "stdout"
        }
      ]
    },
    {
      "cell_type": "code",
      "metadata": {
        "id": "qQ5OOE1EIMZu",
        "colab_type": "code",
        "colab": {
          "base_uri": "https://localhost:8080/",
          "height": 51
        },
        "outputId": "07311ed6-8114-4dd6-825b-1545b222347e"
      },
      "source": [
        "num=int(input(\"enter a number:\")) \n",
        "if(num%1)==0:\n",
        "   print(num,\"is a prime number\") \n",
        "else:\n",
        "    print(num,\"is not a prime number\")"
      ],
      "execution_count": 35,
      "outputs": [
        {
          "output_type": "stream",
          "text": [
            "enter a number:9\n",
            "9 is a prime number\n"
          ],
          "name": "stdout"
        }
      ]
    },
    {
      "cell_type": "code",
      "metadata": {
        "id": "elDd35WRMcOl",
        "colab_type": "code",
        "colab": {
          "base_uri": "https://localhost:8080/",
          "height": 51
        },
        "outputId": "f643ab74-ff0e-4d31-d06c-d9370cbf9dd3"
      },
      "source": [
        "num=int(input()) \n",
        "if(num<0):\n",
        " print(num,\"is negative\") \n",
        "else:\n",
        " print(num,\"is positive\")"
      ],
      "execution_count": 38,
      "outputs": [
        {
          "output_type": "stream",
          "text": [
            "1\n",
            "1 is positive\n"
          ],
          "name": "stdout"
        }
      ]
    },
    {
      "cell_type": "code",
      "metadata": {
        "id": "0YgkdA29NMTA",
        "colab_type": "code",
        "colab": {
          "base_uri": "https://localhost:8080/",
          "height": 105
        },
        "outputId": "26df7644-995c-44e9-bc65-81bf9fca76bc"
      },
      "source": [
        "import math\n",
        "a=float(input(\"a:\")) \n",
        "b=float(input(\"b:\")) \n",
        "c=float(input(\"c:\")) \n",
        " \n",
        "discriminant=b**2-4*a*c\n",
        " \n",
        "if discriminant >=0:\n",
        " x_1=(-b+math.sqrt(discriminant)) /2*a\n",
        " x_2=(-b-math.sqrt(discriminant)) /2*a\n",
        "else:\n",
        "   x_1=complex((-b/(2*a)),math.sqrt(-discriminant)/(2*a)) \n",
        "   x_2=complex((-b/(2*a)),-math.sqrt(-discriminant)/(2*a)) \n",
        " \n",
        "if discriminant >0:\n",
        " print(\"The function has two distinct real roots:{} and {}\".format(x_1,x_2))\n",
        "elif discriminant==0:\n",
        " print(\"the function has one double root:\",x_1)\n",
        "else:\n",
        " print(\"the function has two complex(conjugate)roots:{} and {}\".format(x_1,x_2))"
      ],
      "execution_count": 47,
      "outputs": [
        {
          "output_type": "stream",
          "text": [
            "a:1.2\n",
            "b:2.3\n",
            "c:3.4\n",
            "the function has two complex(conjugate)roots:(-0.9583333333333333+1.3838101587846348j) and (-0.9583333333333333-1.3838101587846348j)\n"
          ],
          "name": "stdout"
        }
      ]
    },
    {
      "cell_type": "code",
      "metadata": {
        "id": "gMeEKi8JS8w5",
        "colab_type": "code",
        "colab": {}
      },
      "source": [
        ""
      ],
      "execution_count": null,
      "outputs": []
    },
    {
      "cell_type": "code",
      "metadata": {
        "id": "RgbB7MwURZJ7",
        "colab_type": "code",
        "colab": {
          "base_uri": "https://localhost:8080/",
          "height": 51
        },
        "outputId": "2613c212-9c21-4770-8bf5-fdd6c5cad6bc"
      },
      "source": [
        "a=int(input(\"Enter a number\")) \n",
        "if(a!=0):\n",
        " if(a>0):\n",
        "  print(a,\"is a positive number\") \n",
        " else:\n",
        "  print(a,\"is a negative number\") \n",
        "else:\n",
        " print(a,\"is zero\")"
      ],
      "execution_count": 59,
      "outputs": [
        {
          "output_type": "stream",
          "text": [
            "Enter a number0\n",
            "0 is zero\n"
          ],
          "name": "stdout"
        }
      ]
    },
    {
      "cell_type": "code",
      "metadata": {
        "id": "sYqkBPrbS9za",
        "colab_type": "code",
        "colab": {
          "base_uri": "https://localhost:8080/",
          "height": 51
        },
        "outputId": "e0abded0-d10a-4c1e-fec2-c2fce7fb7acc"
      },
      "source": [
        "a=int(input(\"Enter a number from 1-5\")) \n",
        "if(a!=0):\n",
        " if(a==1):\n",
        "  print(\"one\") \n",
        " elif(a==2):\n",
        "  print(\"two\")\n",
        " elif(a==3): \n",
        "  print(\"three\")\n",
        " elif(a==4):\n",
        "  print(\"four\")\n",
        " elif(a==5):\n",
        "  print(\"five\") \n",
        "else:\n",
        "  print(\"Invalid number\")"
      ],
      "execution_count": 64,
      "outputs": [
        {
          "output_type": "stream",
          "text": [
            "Enter a number from 1-54\n",
            "four\n"
          ],
          "name": "stdout"
        }
      ]
    },
    {
      "cell_type": "code",
      "metadata": {
        "id": "oT6ZWU4Fa8MW",
        "colab_type": "code",
        "colab": {
          "base_uri": "https://localhost:8080/",
          "height": 51
        },
        "outputId": "6056e234-70a1-4819-a09f-57d57327c2be"
      },
      "source": [
        "ch=input(\"please enter your own character:\") \n",
        "if(ch=='a' or ch=='e' or ch=='i' or ch=='o' or ch=='u'):\n",
        " print(\"The given character\",ch,\"is a vowel\") \n",
        "else:\n",
        " print(\"The given character\",ch,\"is a consonant\")"
      ],
      "execution_count": 67,
      "outputs": [
        {
          "output_type": "stream",
          "text": [
            "please enter your own character:P\n",
            "The given character P is a consonant\n"
          ],
          "name": "stdout"
        }
      ]
    }
  ]
}