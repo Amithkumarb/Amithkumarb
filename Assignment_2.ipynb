{
  "nbformat": 4,
  "nbformat_minor": 0,
  "metadata": {
    "colab": {
      "name": "Assignment 2",
      "provenance": [],
      "collapsed_sections": [],
      "authorship_tag": "ABX9TyMBuEqu7TgwzmW8dyioICgz",
      "include_colab_link": true
    },
    "kernelspec": {
      "name": "python3",
      "display_name": "Python 3"
    }
  },
  "cells": [
    {
      "cell_type": "markdown",
      "metadata": {
        "id": "view-in-github",
        "colab_type": "text"
      },
      "source": [
        "<a href=\"https://colab.research.google.com/github/Amithkumarb/Amithkumarb/blob/master/Assignment_2.ipynb\" target=\"_parent\"><img src=\"https://colab.research.google.com/assets/colab-badge.svg\" alt=\"Open In Colab\"/></a>"
      ]
    },
    {
      "cell_type": "code",
      "metadata": {
        "id": "KBRrennx2bux",
        "colab_type": "code",
        "colab": {
          "base_uri": "https://localhost:8080/",
          "height": 68
        },
        "outputId": "e81febf5-e820-48b4-dac9-31b9a8714336"
      },
      "source": [
        "a=int(input()) \n",
        "b=int(input())\n",
        "c=a+b\n",
        "print(c)"
      ],
      "execution_count": null,
      "outputs": [
        {
          "output_type": "stream",
          "text": [
            "6\n",
            "7\n",
            "13\n"
          ],
          "name": "stdout"
        }
      ]
    },
    {
      "cell_type": "code",
      "metadata": {
        "id": "01ZqlUD624HL",
        "colab_type": "code",
        "colab": {
          "base_uri": "https://localhost:8080/",
          "height": 51
        },
        "outputId": "ed557dde-67d6-43d5-80af-93aac357757d"
      },
      "source": [
        "a=str(input(\"enter your name\")) \n",
        "print(\"hello\",a)"
      ],
      "execution_count": null,
      "outputs": [
        {
          "output_type": "stream",
          "text": [
            "enter your nameAmith\n",
            "hello Amith\n"
          ],
          "name": "stdout"
        }
      ]
    },
    {
      "cell_type": "code",
      "metadata": {
        "id": "YVKDLxnN3QnR",
        "colab_type": "code",
        "colab": {
          "base_uri": "https://localhost:8080/",
          "height": 68
        },
        "outputId": "78411914-2236-45dc-bec3-46f6d4d220f8"
      },
      "source": [
        "hours=int(input (\"Enter hours:\")) \n",
        "rate=float(input(\"Enter rate:\")) \n",
        "pay=hours*rate\n",
        "print(\"pay\",pay)"
      ],
      "execution_count": null,
      "outputs": [
        {
          "output_type": "stream",
          "text": [
            "Enter hours:40\n",
            "Enter rate:5\n",
            "pay 200.0\n"
          ],
          "name": "stdout"
        }
      ]
    },
    {
      "cell_type": "code",
      "metadata": {
        "id": "qD-WHCuC37fw",
        "colab_type": "code",
        "colab": {
          "base_uri": "https://localhost:8080/",
          "height": 85
        },
        "outputId": "853d7c2d-1bbc-4800-dabf-94405433d45c"
      },
      "source": [
        "width=17\n",
        "height=12\n",
        "a=width//2\n",
        "print(a,type(a))\n",
        "b=width/2.0\n",
        "print(b,type(b)) \n",
        "c=height/3\n",
        "print(c,type(c)) \n",
        "d=1+2*5\n",
        "print(d,type(d))"
      ],
      "execution_count": null,
      "outputs": [
        {
          "output_type": "stream",
          "text": [
            "8 <class 'int'>\n",
            "8.5 <class 'float'>\n",
            "4.0 <class 'float'>\n",
            "11 <class 'int'>\n"
          ],
          "name": "stdout"
        }
      ]
    },
    {
      "cell_type": "code",
      "metadata": {
        "id": "0aYypUZq7Tt5",
        "colab_type": "code",
        "colab": {
          "base_uri": "https://localhost:8080/",
          "height": 51
        },
        "outputId": "fe603743-5efb-4bd7-f2cb-b7bdab6a5085"
      },
      "source": [
        "celsius=float(input(\"Enter temperature \")) \n",
        "fahrenheit=(celsius*1.8)+32\n",
        "print(\"The temperature in fahrenheit\", fahrenheit)"
      ],
      "execution_count": null,
      "outputs": [
        {
          "output_type": "stream",
          "text": [
            "Enter temperature 40\n",
            "The temperature in fahrenheit 104.0\n"
          ],
          "name": "stdout"
        }
      ]
    }
  ]
}