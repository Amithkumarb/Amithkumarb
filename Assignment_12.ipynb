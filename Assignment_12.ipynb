{
  "nbformat": 4,
  "nbformat_minor": 0,
  "metadata": {
    "colab": {
      "name": "Assignment 12",
      "provenance": [],
      "authorship_tag": "ABX9TyOZdN9KnSycecYwp1NTuqTh",
      "include_colab_link": true
    },
    "kernelspec": {
      "name": "python3",
      "display_name": "Python 3"
    }
  },
  "cells": [
    {
      "cell_type": "markdown",
      "metadata": {
        "id": "view-in-github",
        "colab_type": "text"
      },
      "source": [
        "<a href=\"https://colab.research.google.com/github/Amithkumarb/Amithkumarb/blob/master/Assignment_12.ipynb\" target=\"_parent\"><img src=\"https://colab.research.google.com/assets/colab-badge.svg\" alt=\"Open In Colab\"/></a>"
      ]
    },
    {
      "cell_type": "code",
      "metadata": {
        "id": "k6QJ8mL4AfJQ",
        "colab_type": "code",
        "colab": {
          "base_uri": "https://localhost:8080/",
          "height": 54
        },
        "outputId": "6e233141-0f66-4a64-9538-5d334cd22c00"
      },
      "source": [
        "a={\"one\":'amith',\"two\":'punith',\"three\":'prakash'}\n",
        "print(a)"
      ],
      "execution_count": 1,
      "outputs": [
        {
          "output_type": "stream",
          "text": [
            "{'one': 'amith', 'two': 'punith', 'three': 'prakash'}\n"
          ],
          "name": "stdout"
        }
      ]
    },
    {
      "cell_type": "code",
      "metadata": {
        "id": "o-BSYgaxB6lV",
        "colab_type": "code",
        "colab": {
          "base_uri": "https://localhost:8080/",
          "height": 54
        },
        "outputId": "2f90c18d-ad1b-426b-f220-b49b2fbe4091"
      },
      "source": [
        " \n",
        "a={\"one\":'prakasj',\"two\":'punith',\"three\":'akshay'}\n",
        "a[\"four\"]=\"amith\"\n",
        "print(a)"
      ],
      "execution_count": 2,
      "outputs": [
        {
          "output_type": "stream",
          "text": [
            "{'one': 'prakasj', 'two': 'punith', 'three': 'akshay', 'four': 'amith'}\n"
          ],
          "name": "stdout"
        }
      ]
    },
    {
      "cell_type": "code",
      "metadata": {
        "id": "b-TclKKGCMQA",
        "colab_type": "code",
        "colab": {
          "base_uri": "https://localhost:8080/",
          "height": 34
        },
        "outputId": "214aad30-2d70-4e18-df08-5213071bd6e8"
      },
      "source": [
        " \n",
        "a={\"one\":'amith',\"two\":'punith',\"three\":'prakash'}\n",
        "print(len(a))"
      ],
      "execution_count": 3,
      "outputs": [
        {
          "output_type": "stream",
          "text": [
            "3\n"
          ],
          "name": "stdout"
        }
      ]
    },
    {
      "cell_type": "code",
      "metadata": {
        "id": "g8Ik5Hl-CTfG",
        "colab_type": "code",
        "colab": {
          "base_uri": "https://localhost:8080/",
          "height": 54
        },
        "outputId": "41c589be-fb91-42e7-ffa2-2879bc2acf18"
      },
      "source": [
        " \n",
        "a={\"one\":'amith',\"two\":'punith',\"three\":'prakash'}\n",
        "a.pop(\"one\")\n",
        "print(a)"
      ],
      "execution_count": 4,
      "outputs": [
        {
          "output_type": "stream",
          "text": [
            "{'two': 'punith', 'three': 'prakash'}\n"
          ],
          "name": "stdout"
        }
      ]
    },
    {
      "cell_type": "code",
      "metadata": {
        "id": "m6Tj4Q8jCf0Y",
        "colab_type": "code",
        "colab": {
          "base_uri": "https://localhost:8080/",
          "height": 54
        },
        "outputId": "e844a239-3bc5-481b-d26f-3cade58e8e91"
      },
      "source": [
        " \n",
        "a={\"one\":'amith',\"two\":'punith',\"three\":'akash'}\n",
        "a[\"four\"]=\"kiran\"\n",
        "print(a)"
      ],
      "execution_count": 6,
      "outputs": [
        {
          "output_type": "stream",
          "text": [
            "{'one': 'amith', 'two': 'punith', 'three': 'akash', 'four': 'kiran'}\n"
          ],
          "name": "stdout"
        }
      ]
    },
    {
      "cell_type": "code",
      "metadata": {
        "id": "4dlltvUpC0wD",
        "colab_type": "code",
        "colab": {
          "base_uri": "https://localhost:8080/",
          "height": 34
        },
        "outputId": "7704a8a0-3648-4b15-e6e0-e04a38b88782"
      },
      "source": [
        " \n",
        "dict = {'a': 100, 'b':200, 'c':300} \n",
        "def returnSum(dict): \n",
        "     sum = 0\n",
        "     for i in dict.values(): \n",
        "         sum = sum + i \n",
        "     return sum\n",
        "print(\"Sum :\", returnSum(dict))"
      ],
      "execution_count": 7,
      "outputs": [
        {
          "output_type": "stream",
          "text": [
            "Sum : 600\n"
          ],
          "name": "stdout"
        }
      ]
    }
  ]
}