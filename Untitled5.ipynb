{
  "nbformat": 4,
  "nbformat_minor": 0,
  "metadata": {
    "colab": {
      "name": "Untitled5.ipynb",
      "provenance": [],
      "collapsed_sections": [],
      "authorship_tag": "ABX9TyMqHcAmQdQy5DP71UhMmYC9",
      "include_colab_link": true
    },
    "kernelspec": {
      "name": "python3",
      "display_name": "Python 3"
    }
  },
  "cells": [
    {
      "cell_type": "markdown",
      "metadata": {
        "id": "view-in-github",
        "colab_type": "text"
      },
      "source": [
        "<a href=\"https://colab.research.google.com/github/Amithkumarb/Amithkumarb/blob/master/Untitled5.ipynb\" target=\"_parent\"><img src=\"https://colab.research.google.com/assets/colab-badge.svg\" alt=\"Open In Colab\"/></a>"
      ]
    },
    {
      "cell_type": "code",
      "metadata": {
        "id": "WOEfOAgm49q3",
        "colab_type": "code",
        "colab": {
          "base_uri": "https://localhost:8080/",
          "height": 51
        },
        "outputId": "f0744b8d-84cb-4415-ed21-67d93cd27245"
      },
      "source": [
        "list=[1,20,30,100]\n",
        "print(max(list))\n",
        "print(min(list))"
      ],
      "execution_count": 1,
      "outputs": [
        {
          "output_type": "stream",
          "text": [
            "100\n",
            "1\n"
          ],
          "name": "stdout"
        }
      ]
    },
    {
      "cell_type": "code",
      "metadata": {
        "id": "q4N6xRbQ5Rd5",
        "colab_type": "code",
        "colab": {
          "base_uri": "https://localhost:8080/",
          "height": 34
        },
        "outputId": "b74922f1-ab08-4140-c457-ed392e794b16"
      },
      "source": [
        "list=[]\n",
        "if len(list)==0:\n",
        "    print(\"list is empty\")\n",
        "else:\n",
        "    print(\"list is not empty\")"
      ],
      "execution_count": 2,
      "outputs": [
        {
          "output_type": "stream",
          "text": [
            "list is empty\n"
          ],
          "name": "stdout"
        }
      ]
    },
    {
      "cell_type": "code",
      "metadata": {
        "id": "hEFN8o0j5wDq",
        "colab_type": "code",
        "colab": {}
      },
      "source": [
        " \n",
        "list1=[\"akshay\" ,\"amith\",\"punith\"]\n",
        "list2=list(list1)\n",
        "print(list1)\n",
        "print(list2)"
      ],
      "execution_count": null,
      "outputs": []
    },
    {
      "cell_type": "code",
      "metadata": {
        "id": "7FUJxSSM523F",
        "colab_type": "code",
        "colab": {
          "base_uri": "https://localhost:8080/",
          "height": 54
        },
        "outputId": "ccdec4a3-97ea-453a-a7f3-6212f80f99af"
      },
      "source": [
        "list1=[\"amith\",\"punith\",\"prakash\",\"akshay\"]\n",
        "list2=list1.copy()\n",
        "print(list2)"
      ],
      "execution_count": 6,
      "outputs": [
        {
          "output_type": "stream",
          "text": [
            "['amith', 'punith', 'prakash', 'akshay']\n"
          ],
          "name": "stdout"
        }
      ]
    },
    {
      "cell_type": "code",
      "metadata": {
        "id": "noSXx0kC6CIa",
        "colab_type": "code",
        "colab": {
          "base_uri": "https://localhost:8080/",
          "height": 34
        },
        "outputId": "8b3c1466-0dd1-4db1-9f33-f38495c0ec4d"
      },
      "source": [
        " \n",
        "list=[2,11,10,55,60,37,12,]\n",
        "for x in list:\n",
        "    if(x%2==0):\n",
        "        list.remove(x)\n",
        "print(list)"
      ],
      "execution_count": 7,
      "outputs": [
        {
          "output_type": "stream",
          "text": [
            "[11, 55, 37]\n"
          ],
          "name": "stdout"
        }
      ]
    },
    {
      "cell_type": "code",
      "metadata": {
        "id": "HgnEoSmk6Iou",
        "colab_type": "code",
        "colab": {
          "base_uri": "https://localhost:8080/",
          "height": 34
        },
        "outputId": "c4b2a625-dbe2-44d8-fcac-2c5b04b96602"
      },
      "source": [
        " \n",
        "a=[100,200,200]\n",
        "print(sum(a))"
      ],
      "execution_count": 8,
      "outputs": [
        {
          "output_type": "stream",
          "text": [
            "500\n"
          ],
          "name": "stdout"
        }
      ]
    }
  ]
}