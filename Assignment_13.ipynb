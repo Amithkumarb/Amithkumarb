{
  "nbformat": 4,
  "nbformat_minor": 0,
  "metadata": {
    "colab": {
      "name": "Assignment 13",
      "provenance": [],
      "collapsed_sections": [],
      "authorship_tag": "ABX9TyP2wdzZum38naf5tNddVrqo",
      "include_colab_link": true
    },
    "kernelspec": {
      "name": "python3",
      "display_name": "Python 3"
    }
  },
  "cells": [
    {
      "cell_type": "markdown",
      "metadata": {
        "id": "view-in-github",
        "colab_type": "text"
      },
      "source": [
        "<a href=\"https://colab.research.google.com/github/Amithkumarb/Amithkumarb/blob/master/Assignment_13.ipynb\" target=\"_parent\"><img src=\"https://colab.research.google.com/assets/colab-badge.svg\" alt=\"Open In Colab\"/></a>"
      ]
    },
    {
      "cell_type": "code",
      "metadata": {
        "id": "qOMxXxGYIphF",
        "colab_type": "code",
        "colab": {
          "base_uri": "https://localhost:8080/",
          "height": 51
        },
        "outputId": "131db68f-c6e4-4938-98e1-ecc36bc88b17"
      },
      "source": [
        " \n",
        "d={'name':'amith','age':19}\n",
        "for t in d.items():\n",
        "   print (t)"
      ],
      "execution_count": 1,
      "outputs": [
        {
          "output_type": "stream",
          "text": [
            "('name', 'amith')\n",
            "('age', 19)\n"
          ],
          "name": "stdout"
        }
      ]
    },
    {
      "cell_type": "code",
      "metadata": {
        "id": "P2jprdwPI-o6",
        "colab_type": "code",
        "colab": {
          "base_uri": "https://localhost:8080/",
          "height": 34
        },
        "outputId": "0dac42aa-a83c-409e-c879-5ba3327b749a"
      },
      "source": [
        " \n",
        "str = \"Hi Amith\"\n",
        "print(str.startswith(\"Hi\"))"
      ],
      "execution_count": 2,
      "outputs": [
        {
          "output_type": "stream",
          "text": [
            "True\n"
          ],
          "name": "stdout"
        }
      ]
    },
    {
      "cell_type": "code",
      "metadata": {
        "id": "VM_VaXyqJNdk",
        "colab_type": "code",
        "colab": {
          "base_uri": "https://localhost:8080/",
          "height": 34
        },
        "outputId": "26f74068-b408-405e-bf36-5e9dd848d01c"
      },
      "source": [
        " \n",
        "str=\"amith\"\n",
        "print(str.index('a'))"
      ],
      "execution_count": 3,
      "outputs": [
        {
          "output_type": "stream",
          "text": [
            "0\n"
          ],
          "name": "stdout"
        }
      ]
    },
    {
      "cell_type": "code",
      "metadata": {
        "id": "fQ_qbg7mJoyA",
        "colab_type": "code",
        "colab": {
          "base_uri": "https://localhost:8080/",
          "height": 34
        },
        "outputId": "47a32aaf-a030-4124-eb2e-041a5de6ea78"
      },
      "source": [
        " \n",
        "names= {'a':\"amith\",'b':\"punith\",'c':\"akshay\"}\n",
        "if 'a' in names: \n",
        "    del names['a']\n",
        "print(names)"
      ],
      "execution_count": 4,
      "outputs": [
        {
          "output_type": "stream",
          "text": [
            "{'b': 'punith', 'c': 'akshay'}\n"
          ],
          "name": "stdout"
        }
      ]
    }
  ]
}