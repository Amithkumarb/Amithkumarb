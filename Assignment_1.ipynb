{
  "nbformat": 4,
  "nbformat_minor": 0,
  "metadata": {
    "colab": {
      "name": "Assignment 1",
      "provenance": [],
      "authorship_tag": "ABX9TyP3J06YgneGMp/s7+T0WLMF",
      "include_colab_link": true
    },
    "kernelspec": {
      "name": "python3",
      "display_name": "Python 3"
    }
  },
  "cells": [
    {
      "cell_type": "markdown",
      "metadata": {
        "id": "view-in-github",
        "colab_type": "text"
      },
      "source": [
        "<a href=\"https://colab.research.google.com/github/Amithkumarb/Amithkumarb/blob/master/Assignment_1.ipynb\" target=\"_parent\"><img src=\"https://colab.research.google.com/assets/colab-badge.svg\" alt=\"Open In Colab\"/></a>"
      ]
    },
    {
      "cell_type": "code",
      "metadata": {
        "id": "GgViRo_Gqv8v",
        "colab_type": "code",
        "colab": {
          "base_uri": "https://localhost:8080/",
          "height": 85
        },
        "outputId": "d3fc30ee-c3e7-4ba4-927e-be575a65bc3d"
      },
      "source": [
        "p=int(input()) \n",
        "t=int(input())\n",
        "r=int(input())\n",
        "si=(p*t*r)/100\n",
        "print(\"the si is\", si)"
      ],
      "execution_count": null,
      "outputs": [
        {
          "output_type": "stream",
          "text": [
            "50\n",
            "2\n",
            "10\n",
            "the si is 10.0\n"
          ],
          "name": "stdout"
        }
      ]
    },
    {
      "cell_type": "code",
      "metadata": {
        "id": "YAvxiD6doeQi",
        "colab_type": "code",
        "colab": {
          "base_uri": "https://localhost:8080/",
          "height": 154
        },
        "outputId": "5bd7b947-1320-47fb-8f16-8abda8a2d276"
      },
      "source": [
        "a=int(input()) \n",
        "b=int(input()) \n",
        "print(a+b) \n",
        "print(a-b) \n",
        "print(a/b) \n",
        "print(a%b) \n",
        "print(a**b) \n",
        "print(a//b)"
      ],
      "execution_count": null,
      "outputs": [
        {
          "output_type": "stream",
          "text": [
            "2\n",
            "3\n",
            "5\n",
            "-1\n",
            "0.6666666666666666\n",
            "2\n",
            "8\n",
            "0\n"
          ],
          "name": "stdout"
        }
      ]
    },
    {
      "cell_type": "code",
      "metadata": {
        "id": "dBjnyR2Qr0ms",
        "colab_type": "code",
        "colab": {
          "base_uri": "https://localhost:8080/",
          "height": 51
        },
        "outputId": "e2c5ab0e-ccb4-40c6-d37f-08a48d42a28c"
      },
      "source": [
        "r=int(input()) \n",
        "area=3.14*(r**2)\n",
        "print(\"the area is\", area)"
      ],
      "execution_count": null,
      "outputs": [
        {
          "output_type": "stream",
          "text": [
            "2\n",
            "the area is 12.56\n"
          ],
          "name": "stdout"
        }
      ]
    },
    {
      "cell_type": "code",
      "metadata": {
        "id": "rsGgxuEus-pA",
        "colab_type": "code",
        "colab": {
          "base_uri": "https://localhost:8080/",
          "height": 68
        },
        "outputId": "fe1dd4df-51f8-48ea-b9a8-1c0cac1a503c"
      },
      "source": [
        "b=int(input()) \n",
        "h=int(input())\n",
        "area=(0.5*b*h)\n",
        "print(\"the area of triangle\", area)"
      ],
      "execution_count": null,
      "outputs": [
        {
          "output_type": "stream",
          "text": [
            "4\n",
            "5\n",
            "the area of triangle 10.0\n"
          ],
          "name": "stdout"
        }
      ]
    },
    {
      "cell_type": "code",
      "metadata": {
        "id": "rHsW8c7_t24u",
        "colab_type": "code",
        "colab": {
          "base_uri": "https://localhost:8080/",
          "height": 51
        },
        "outputId": "0d1197b7-b02e-44ee-a70b-3b7258451698"
      },
      "source": [
        "celsius=float(input())\n",
        "fahrenheit=(celsius*1.8)+32\n",
        "print(\"the fahrenheit is\",fahrenheit)"
      ],
      "execution_count": null,
      "outputs": [
        {
          "output_type": "stream",
          "text": [
            "37.5\n",
            "the fahrenheit is 99.5\n"
          ],
          "name": "stdout"
        }
      ]
    },
    {
      "cell_type": "code",
      "metadata": {
        "id": "PBbTD59TupYc",
        "colab_type": "code",
        "colab": {
          "base_uri": "https://localhost:8080/",
          "height": 68
        },
        "outputId": "0b4da78a-fbcc-4ec1-ef86-21777417819d"
      },
      "source": [
        " \n",
        "l=int(input()) \n",
        "b=int(input()) \n",
        "area=l*b\n",
        "print(\"the area of rectangle is\", area)"
      ],
      "execution_count": null,
      "outputs": [
        {
          "output_type": "stream",
          "text": [
            "5\n",
            "10\n",
            "the area of rectangle is 50\n"
          ],
          "name": "stdout"
        }
      ]
    },
    {
      "cell_type": "code",
      "metadata": {
        "id": "Qsr0igxWwTTT",
        "colab_type": "code",
        "colab": {
          "base_uri": "https://localhost:8080/",
          "height": 51
        },
        "outputId": "4345ce21-9f37-4698-de06-b50940f6cc41"
      },
      "source": [
        "s=int(input()) \n",
        "peri=4*s\n",
        "print(\"the perimeter is\", peri)"
      ],
      "execution_count": null,
      "outputs": [
        {
          "output_type": "stream",
          "text": [
            "5\n",
            "the perimeter is 20\n"
          ],
          "name": "stdout"
        }
      ]
    },
    {
      "cell_type": "code",
      "metadata": {
        "id": "_9NECfztwrZR",
        "colab_type": "code",
        "colab": {
          "base_uri": "https://localhost:8080/",
          "height": 51
        },
        "outputId": "9428be73-ae19-4e7b-db0f-a74695301c41"
      },
      "source": [
        "r=int(input())\n",
        "cf=2*3.14*r\n",
        "print(\"the cf is\",cf)"
      ],
      "execution_count": null,
      "outputs": [
        {
          "output_type": "stream",
          "text": [
            "4\n",
            "the cf is 25.12\n"
          ],
          "name": "stdout"
        }
      ]
    },
    {
      "cell_type": "code",
      "metadata": {
        "id": "hvhO2CWcxVKt",
        "colab_type": "code",
        "colab": {
          "base_uri": "https://localhost:8080/",
          "height": 85
        },
        "outputId": "f16b303e-0dfb-42af-8d47-edcdbb9df6e8"
      },
      "source": [
        "a=int(input()) \n",
        "b=int(input())\n",
        "print(\"before swapping\",a,b)\n",
        "temp=a\n",
        "a=b\n",
        "b=temp\n",
        "print(\"after swapping\",a,b)"
      ],
      "execution_count": null,
      "outputs": [
        {
          "output_type": "stream",
          "text": [
            "5\n",
            "6\n",
            "before swapping 5 6\n",
            "after swapping 6 5\n"
          ],
          "name": "stdout"
        }
      ]
    }
  ]
}