{
  "nbformat": 4,
  "nbformat_minor": 0,
  "metadata": {
    "colab": {
      "name": "Assignment 10",
      "provenance": [],
      "collapsed_sections": [],
      "authorship_tag": "ABX9TyPE+Phdj4dzX59/N6mRY8N5",
      "include_colab_link": true
    },
    "kernelspec": {
      "name": "python3",
      "display_name": "Python 3"
    }
  },
  "cells": [
    {
      "cell_type": "markdown",
      "metadata": {
        "id": "view-in-github",
        "colab_type": "text"
      },
      "source": [
        "<a href=\"https://colab.research.google.com/github/Amithkumarb/Amithkumarb/blob/master/Assignment_10.ipynb\" target=\"_parent\"><img src=\"https://colab.research.google.com/assets/colab-badge.svg\" alt=\"Open In Colab\"/></a>"
      ]
    },
    {
      "cell_type": "code",
      "metadata": {
        "id": "TIP7RvIYyNfx",
        "colab_type": "code",
        "colab": {}
      },
      "source": [
        "try:\n",
        "    f=open(\"sample.txt\")\n",
        "except:\n",
        "    print(\"file can not be opened\")"
      ],
      "execution_count": null,
      "outputs": []
    },
    {
      "cell_type": "code",
      "metadata": {
        "id": "8__K45PcycJT",
        "colab_type": "code",
        "colab": {}
      },
      "source": [
        "with open(\"samplef.txt\")as f:\n",
        "    data=f.read()\n",
        "    print(data)\n",
        "    f=open(\"sample.txt\")\n",
        "    f.write(\"hello amith\")\n",
        "    print(f.read)"
      ],
      "execution_count": null,
      "outputs": []
    },
    {
      "cell_type": "code",
      "metadata": {
        "id": "1um2OJu1ynZM",
        "colab_type": "code",
        "colab": {}
      },
      "source": [
        "with open (\"sample.txt\")as f:\n",
        "    data=f.readlines\n",
        "    for line in data:\n",
        "        sentence=line.split()\n",
        "        print(sentence)"
      ],
      "execution_count": null,
      "outputs": []
    },
    {
      "cell_type": "code",
      "metadata": {
        "id": "WI5vAvODytgD",
        "colab_type": "code",
        "colab": {
          "base_uri": "https://localhost:8080/",
          "height": 34
        },
        "outputId": "18502975-dfb8-465b-9dfa-f2d887789792"
      },
      "source": [
        "friends=[\"amith\",\"punith\",\"prakash\",\"narendra\",\"akshay\"]\n",
        "print(friends[0])"
      ],
      "execution_count": 1,
      "outputs": [
        {
          "output_type": "stream",
          "text": [
            "amith\n"
          ],
          "name": "stdout"
        }
      ]
    },
    {
      "cell_type": "code",
      "metadata": {
        "id": "yaf-A0Y1zWx1",
        "colab_type": "code",
        "colab": {}
      },
      "source": [
        " \n",
        "import os\n",
        "os.remove(\"exampleprogram.txt\")\n",
        "os.rmdir(\"exampleprogram1.txt\")"
      ],
      "execution_count": null,
      "outputs": []
    }
  ]
}