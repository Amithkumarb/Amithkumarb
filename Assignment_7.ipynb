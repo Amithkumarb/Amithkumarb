{
  "nbformat": 4,
  "nbformat_minor": 0,
  "metadata": {
    "colab": {
      "name": "Assignment 7",
      "provenance": [],
      "collapsed_sections": [],
      "authorship_tag": "ABX9TyMctMR3Iyo7wVKwarecaDo3",
      "include_colab_link": true
    },
    "kernelspec": {
      "name": "python3",
      "display_name": "Python 3"
    }
  },
  "cells": [
    {
      "cell_type": "markdown",
      "metadata": {
        "id": "view-in-github",
        "colab_type": "text"
      },
      "source": [
        "<a href=\"https://colab.research.google.com/github/Amithkumarb/Amithkumarb/blob/master/Assignment_7.ipynb\" target=\"_parent\"><img src=\"https://colab.research.google.com/assets/colab-badge.svg\" alt=\"Open In Colab\"/></a>"
      ]
    },
    {
      "cell_type": "code",
      "metadata": {
        "id": "mEYsHKUCkjJk",
        "colab_type": "code",
        "colab": {
          "base_uri": "https://localhost:8080/",
          "height": 71
        },
        "outputId": "6bc97aa8-5b2f-41a4-9dbf-14f896232a82"
      },
      "source": [
        " number = int(input(\"Please Enter any Number: \"))\n",
        "total = 0\n",
        " \n",
        "for value in range(1, number + 1):\n",
        "    total = total + value\n",
        " \n",
        "print(\"The Sum of Natural Numbers from 1 to {0} =  {1}\".format(number, total))"
      ],
      "execution_count": 1,
      "outputs": [
        {
          "output_type": "stream",
          "text": [
            "Please Enter any Number: 10\n",
            "The Sum of Natural Numbers from 1 to 10 =  55\n"
          ],
          "name": "stdout"
        }
      ]
    },
    {
      "cell_type": "code",
      "metadata": {
        "id": "quwAKccgkyMO",
        "colab_type": "code",
        "colab": {
          "base_uri": "https://localhost:8080/",
          "height": 51
        },
        "outputId": "c622a65f-8683-46c5-d937-ac2143c536f1"
      },
      "source": [
        " numbers = (1, 2, 3, 4, 5, 6, 7, 8, 9, 10) \n",
        "count_odd = 0\n",
        "count_even = 0\n",
        "for x in numbers:\n",
        "        if not x % 2:\n",
        "             count_even+=1\n",
        "        else:\n",
        "             count_odd+=1\n",
        "print(\"Number of even numbers :\",count_even)\n",
        "print(\"Number of odd numbers :\",count_odd)"
      ],
      "execution_count": 2,
      "outputs": [
        {
          "output_type": "stream",
          "text": [
            "Number of even numbers : 5\n",
            "Number of odd numbers : 5\n"
          ],
          "name": "stdout"
        }
      ]
    },
    {
      "cell_type": "code",
      "metadata": {
        "id": "uTZCxpVkk1xa",
        "colab_type": "code",
        "colab": {
          "base_uri": "https://localhost:8080/",
          "height": 51
        },
        "outputId": "43abf151-2f0f-4010-eac3-b928008635eb"
      },
      "source": [
        " for x in range(6):\n",
        "    if (x == 3 or x==6):\n",
        "        continue\n",
        "    print(x,end=' ')\n",
        "print(\"\\n\")"
      ],
      "execution_count": 3,
      "outputs": [
        {
          "output_type": "stream",
          "text": [
            "0 1 2 4 5 \n",
            "\n"
          ],
          "name": "stdout"
        }
      ]
    },
    {
      "cell_type": "code",
      "metadata": {
        "id": "XKxEDX9Ak77a",
        "colab_type": "code",
        "colab": {
          "base_uri": "https://localhost:8080/",
          "height": 71
        },
        "outputId": "d1bcc0c3-4fa9-4a93-8d03-39292f105bea"
      },
      "source": [
        " numbers = []\n",
        "squares = []\n",
        "start = 1 \n",
        "end = 10 \n",
        "for count in range (start, end+1) :\n",
        "    numbers.append (count)\n",
        "    squares.append (count**2)\n",
        "print(\"numbers: \",numbers)\n",
        "print(\"squares: \",squares)"
      ],
      "execution_count": 4,
      "outputs": [
        {
          "output_type": "stream",
          "text": [
            "numbers:  [1, 2, 3, 4, 5, 6, 7, 8, 9, 10]\n",
            "squares:  [1, 4, 9, 16, 25, 36, 49, 64, 81, 100]\n"
          ],
          "name": "stdout"
        }
      ]
    },
    {
      "cell_type": "code",
      "metadata": {
        "id": "zvYHNbI4lEfT",
        "colab_type": "code",
        "colab": {
          "base_uri": "https://localhost:8080/",
          "height": 34
        },
        "outputId": "a7052897-4849-42fc-d44e-17b1474d8f3c"
      },
      "source": [
        " n = 10\n",
        "sum = 0\n",
        "for num in range(0, n+1, 1):\n",
        "    sum = sum+num\n",
        "print(\"SUM of first \", n, \"numbers is: \", sum )"
      ],
      "execution_count": 5,
      "outputs": [
        {
          "output_type": "stream",
          "text": [
            "SUM of first  10 numbers is:  55\n"
          ],
          "name": "stdout"
        }
      ]
    },
    {
      "cell_type": "code",
      "metadata": {
        "id": "54gTPQk5lInb",
        "colab_type": "code",
        "colab": {
          "base_uri": "https://localhost:8080/",
          "height": 51
        },
        "outputId": "076e4f8a-57d8-4763-828a-86883f604e33"
      },
      "source": [
        " number = int(input(\"Enter the number to reverse: \"))\n",
        "reverse = 0\n",
        "while number > 0:\n",
        "    dig = number % 10\n",
        "    reverse = reverse * 10 + dig\n",
        "    number //= 10\n",
        "print(\"The Reverse of the number:\", reverse)"
      ],
      "execution_count": 6,
      "outputs": [
        {
          "output_type": "stream",
          "text": [
            "Enter the number to reverse: 123\n",
            "The Reverse of the number: 321\n"
          ],
          "name": "stdout"
        }
      ]
    },
    {
      "cell_type": "code",
      "metadata": {
        "id": "tnmhp7d1leg9",
        "colab_type": "code",
        "colab": {
          "base_uri": "https://localhost:8080/",
          "height": 464
        },
        "outputId": "ca71c18b-0d4e-4d62-83b1-19490912a3d3"
      },
      "source": [
        " lower=int(input(\"Enter the lower limit for the range:\"))\n",
        "upper=int(input(\"Enter the upper limit for the range:\"))\n",
        "for i in range(lower,upper+1):\n",
        "    if(i%2!=0):\n",
        "        print(i)"
      ],
      "execution_count": 8,
      "outputs": [
        {
          "output_type": "stream",
          "text": [
            "Enter the lower limit for the range:5\n",
            "Enter the upper limit for the range:50\n",
            "5\n",
            "7\n",
            "9\n",
            "11\n",
            "13\n",
            "15\n",
            "17\n",
            "19\n",
            "21\n",
            "23\n",
            "25\n",
            "27\n",
            "29\n",
            "31\n",
            "33\n",
            "35\n",
            "37\n",
            "39\n",
            "41\n",
            "43\n",
            "45\n",
            "47\n",
            "49\n"
          ],
          "name": "stdout"
        }
      ]
    },
    {
      "cell_type": "code",
      "metadata": {
        "id": "XJE9RlsZllXv",
        "colab_type": "code",
        "colab": {
          "base_uri": "https://localhost:8080/",
          "height": 68
        },
        "outputId": "8056f72a-6599-4068-97a4-94543dbe42da"
      },
      "source": [
        " num = int(input(\"Enter a number \\n\"))\n",
        "count = 0\n",
        "while num>0:\n",
        "    count +=1\n",
        "    num = num//10;\n",
        "    \n",
        "print(\"Number of Digits: %d\"%count)"
      ],
      "execution_count": 9,
      "outputs": [
        {
          "output_type": "stream",
          "text": [
            "Enter a number \n",
            "5\n",
            "Number of Digits: 1\n"
          ],
          "name": "stdout"
        }
      ]
    },
    {
      "cell_type": "code",
      "metadata": {
        "id": "vNANlRuklzSU",
        "colab_type": "code",
        "colab": {
          "base_uri": "https://localhost:8080/",
          "height": 51
        },
        "outputId": "9c5c3d55-f164-41a4-ed52-7ff53a01fedc"
      },
      "source": [
        " num=int(input(\"Enter a number:\"))\n",
        "temp=num\n",
        "rev=0\n",
        "while(num>0):\n",
        "    dig=num%10\n",
        "    rev=rev*10+dig\n",
        "    num=num//10\n",
        "if(temp==rev):\n",
        "    print(\"The number is palindrome!\")\n",
        "else:\n",
        "    print(\"Not a palindrome!\")"
      ],
      "execution_count": 10,
      "outputs": [
        {
          "output_type": "stream",
          "text": [
            "Enter a number:12521\n",
            "The number is palindrome!\n"
          ],
          "name": "stdout"
        }
      ]
    },
    {
      "cell_type": "code",
      "metadata": {
        "id": "jNVpTjRsmHcD",
        "colab_type": "code",
        "colab": {
          "base_uri": "https://localhost:8080/",
          "height": 205
        },
        "outputId": "80f63dc3-b5ca-4834-b0a1-94128f2ef61e"
      },
      "source": [
        " n=int(input(\"Enter a number: \"))\n",
        "for i in range(0,n):\n",
        "    for j in range(0,n):\n",
        "        if(i==j):\n",
        "            print(\"1\",sep=\" \",end=\" \")\n",
        "        else:\n",
        "            print(\"0\",sep=\" \",end=\" \")\n",
        "    print()"
      ],
      "execution_count": 11,
      "outputs": [
        {
          "output_type": "stream",
          "text": [
            "Enter a number: 10\n",
            "1 0 0 0 0 0 0 0 0 0 \n",
            "0 1 0 0 0 0 0 0 0 0 \n",
            "0 0 1 0 0 0 0 0 0 0 \n",
            "0 0 0 1 0 0 0 0 0 0 \n",
            "0 0 0 0 1 0 0 0 0 0 \n",
            "0 0 0 0 0 1 0 0 0 0 \n",
            "0 0 0 0 0 0 1 0 0 0 \n",
            "0 0 0 0 0 0 0 1 0 0 \n",
            "0 0 0 0 0 0 0 0 1 0 \n",
            "0 0 0 0 0 0 0 0 0 1 \n"
          ],
          "name": "stdout"
        }
      ]
    },
    {
      "cell_type": "code",
      "metadata": {
        "id": "usG1zHKhmVPr",
        "colab_type": "code",
        "colab": {
          "base_uri": "https://localhost:8080/",
          "height": 34
        },
        "outputId": "cd29a6c8-505a-4b53-9a92-3f33f9de1743"
      },
      "source": [
        " def perfect_number(n):\n",
        "    sum = 0\n",
        "    for x in range(1, n):\n",
        "        if n % x == 0:\n",
        "            sum += x\n",
        "    return sum == n\n",
        "print(perfect_number(6))"
      ],
      "execution_count": 13,
      "outputs": [
        {
          "output_type": "stream",
          "text": [
            "True\n"
          ],
          "name": "stdout"
        }
      ]
    }
  ]
}